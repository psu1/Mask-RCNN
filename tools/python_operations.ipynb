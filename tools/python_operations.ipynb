{
 "cells": [
  {
   "cell_type": "code",
   "execution_count": 1,
   "metadata": {},
   "outputs": [],
   "source": [
    "import numpy as np\n",
    "import torch\n",
    "# default is python3; "
   ]
  },
  {
   "cell_type": "markdown",
   "metadata": {},
   "source": [
    "## find index of equal elements of two list or arrary"
   ]
  },
  {
   "cell_type": "code",
   "execution_count": 2,
   "metadata": {},
   "outputs": [
    {
     "name": "stdout",
     "output_type": "stream",
     "text": [
      "idx of list False\n",
      "idx of array [ True False]\n",
      "The idx1 is not all false?  True\n"
     ]
    }
   ],
   "source": [
    "a = [1, 3]\n",
    "b = [1, 2]\n",
    "\n",
    "idx = a == b\n",
    "\n",
    "print('idx of list', idx)\n",
    "a, b = np.asarray(a), np.asarray(b)\n",
    "\n",
    "idx1 = a == b\n",
    "\n",
    "print('idx of array', idx1)\n",
    "\n",
    "# investigate all false or not\n",
    "# any(): Return True if any element of the iterable is true.\n",
    "result = idx1.any()\n",
    "\n",
    "print('The idx1 is not all false? ', result)"
   ]
  },
  {
   "cell_type": "markdown",
   "metadata": {},
   "source": [
    "## pytorch"
   ]
  },
  {
   "cell_type": "code",
   "execution_count": 4,
   "metadata": {},
   "outputs": [
    {
     "data": {
      "text/plain": [
       "tensor([[ 0],\n",
       "        [ 1],\n",
       "        [ 2],\n",
       "        [ 4]])"
      ]
     },
     "execution_count": 4,
     "metadata": {},
     "output_type": "execute_result"
    }
   ],
   "source": [
    "# Returns a tensor containing the indices of all non-zero elements\n",
    "q = torch.nonzero(torch.tensor([1, 1, 1, 0, 1]))\n",
    "q"
   ]
  },
  {
   "cell_type": "code",
   "execution_count": 10,
   "metadata": {},
   "outputs": [
    {
     "name": "stdout",
     "output_type": "stream",
     "text": [
      "x.size() torch.Size([2, 1, 2, 1, 2])\n",
      "x.size()[0] is  2\n",
      "y .size() torch.Size([2, 2, 2])\n",
      "y .size() torch.Size([2, 2, 1, 2])\n"
     ]
    }
   ],
   "source": [
    "# torch.squeeze\n",
    "# Returns a tensor with all the dimensions of input of size 1 removed\n",
    "x = torch.zeros(2, 1, 2, 1, 2)\n",
    "\n",
    "print('x.size()', x.size())\n",
    "\n",
    "print('x.size()[0] is ', x.size()[0])\n",
    "\n",
    "y = torch.squeeze(x)\n",
    "print('y .size()', y.size())\n",
    "\n",
    "# sepify the dim to be removed\n",
    "y1 = torch.squeeze(x, 1)\n",
    "print('y .size()', y1.size())"
   ]
  },
  {
   "cell_type": "code",
   "execution_count": null,
   "metadata": {},
   "outputs": [],
   "source": []
  }
 ],
 "metadata": {
  "kernelspec": {
   "display_name": "Python 3",
   "language": "python",
   "name": "python3"
  },
  "language_info": {
   "codemirror_mode": {
    "name": "ipython",
    "version": 3
   },
   "file_extension": ".py",
   "mimetype": "text/x-python",
   "name": "python",
   "nbconvert_exporter": "python",
   "pygments_lexer": "ipython3",
   "version": "3.6.5"
  }
 },
 "nbformat": 4,
 "nbformat_minor": 2
}
